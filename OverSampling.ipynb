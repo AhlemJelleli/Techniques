{
  "nbformat": 4,
  "nbformat_minor": 0,
  "metadata": {
    "colab": {
      "provenance": []
    },
    "kernelspec": {
      "name": "python3",
      "display_name": "Python 3"
    },
    "language_info": {
      "name": "python"
    }
  },
  "cells": [
    {
      "cell_type": "code",
      "source": [
        "import numpy as np # linear algebra\n",
        "import pandas as pd # data processing, CSV file I/O (e.g. pd.read_csv)\n",
        "import tensorflow as tf\n",
        "import matplotlib.pyplot as plt\n",
        "import seaborn as sns\n",
        "from sklearn.model_selection import train_test_split\n",
        "from sklearn.pipeline import make_pipeline\n",
        "from imblearn.pipeline import make_pipeline as imbalanced_make_pipeline\n",
        "from imblearn.over_sampling import SMOTE,ADASYN,BorderlineSMOTE,SVMSMOTE,RandomOverSampler  \n",
        "from imblearn.under_sampling import NearMiss, RandomUnderSampler\n",
        "from imblearn.metrics import classification_report_imbalanced\n",
        "from sklearn.metrics import precision_score, recall_score, f1_score,auc, roc_auc_score, accuracy_score,roc_curve,average_precision_score, classification_report,precision_recall_curve\n",
        "from collections import Counter\n",
        "from sklearn.metrics import confusion_matrix\n",
        "from sklearn.metrics import plot_confusion_matrix\n",
        "from sklearn.model_selection import KFold, StratifiedKFold\n",
        "import warnings\n",
        "warnings.filterwarnings(\"ignore\")\n",
        "\n",
        "# Classifier Libraries\n",
        "from imblearn.under_sampling import RandomUnderSampler\n",
        "from sklearn.linear_model import LogisticRegression\n",
        "from sklearn.neighbors import KNeighborsClassifier\n",
        "from sklearn.tree import DecisionTreeClassifier\n",
        "from sklearn.ensemble import RandomForestClassifier\n",
        "import collections"
      ],
      "metadata": {
        "id": "wsq-xWhhkVyR"
      },
      "execution_count": 50,
      "outputs": []
    },
    {
      "cell_type": "code",
      "source": [
        "from google.colab import drive\n",
        "drive.mount('/content/drive')"
      ],
      "metadata": {
        "colab": {
          "base_uri": "https://localhost:8080/"
        },
        "id": "L_I7zLWYkeIn",
        "outputId": "45859ba3-50b8-43d4-e1f0-aed7b0756263"
      },
      "execution_count": 51,
      "outputs": [
        {
          "output_type": "stream",
          "name": "stdout",
          "text": [
            "Drive already mounted at /content/drive; to attempt to forcibly remount, call drive.mount(\"/content/drive\", force_remount=True).\n"
          ]
        }
      ]
    },
    {
      "cell_type": "code",
      "source": [
        "data= pd.read_csv('/content/drive/MyDrive/creditcard.csv',encoding=\"utf-8\",low_memory=False)\n",
        "print(\"The shape of :\", data.shape)"
      ],
      "metadata": {
        "id": "ButOa9FCkkAE",
        "colab": {
          "base_uri": "https://localhost:8080/"
        },
        "outputId": "8782b959-e51f-4470-aca6-abc8a7d70b77"
      },
      "execution_count": 52,
      "outputs": [
        {
          "output_type": "stream",
          "name": "stdout",
          "text": [
            "The shape of : (284807, 31)\n"
          ]
        }
      ]
    },
    {
      "cell_type": "markdown",
      "source": [
        "###OverSampler Model :"
      ],
      "metadata": {
        "id": "ewqIiBHPMYYN"
      }
    },
    {
      "cell_type": "code",
      "source": [
        "from sklearn.datasets import make_classification\n",
        "X, y = make_classification(n_samples= 10000, weights=[.99])\n",
        "print(Counter(y))\n",
        "# instantiating the random over sampler \n",
        "ros = RandomOverSampler()\n",
        "# resampling X, y\n",
        "X_ros, y_ros = ros.fit_resample(X, y)\n",
        "# new class distribution \n",
        "print(Counter(y_ros))\n",
        "Counter({0: 9844, 1: 9844})"
      ],
      "metadata": {
        "colab": {
          "base_uri": "https://localhost:8080/"
        },
        "id": "R8xDx_8TneOG",
        "outputId": "317d175f-46e5-41b9-b469-eb7ea3b516fa"
      },
      "execution_count": 53,
      "outputs": [
        {
          "output_type": "stream",
          "name": "stdout",
          "text": [
            "Counter({0: 9867, 1: 133})\n",
            "Counter({0: 9867, 1: 9867})\n"
          ]
        },
        {
          "output_type": "execute_result",
          "data": {
            "text/plain": [
              "Counter({0: 9844, 1: 9844})"
            ]
          },
          "metadata": {},
          "execution_count": 53
        }
      ]
    },
    {
      "cell_type": "code",
      "source": [
        "# Class count\n",
        "count_class_0, count_class_1 = data.Class.value_counts()\n",
        "\n",
        "# Divide by class\n",
        "df_class_0 = data[data['Class'] == 0]\n",
        "df_class_1 = data[data['Class'] == 1]"
      ],
      "metadata": {
        "id": "jow8ktf0r3ej"
      },
      "execution_count": 54,
      "outputs": []
    },
    {
      "cell_type": "code",
      "source": [
        "df_class_1_over = df_class_1.sample(count_class_0, replace=True)\n",
        "df_test_over = pd.concat([df_class_0, df_class_1_over], axis=0)\n"
      ],
      "metadata": {
        "id": "R2cWtZ5KrjTa"
      },
      "execution_count": 55,
      "outputs": []
    },
    {
      "cell_type": "code",
      "source": [
        "y_over = df_test_over['Class']\n",
        "X_over = df_test_over.drop('Class', axis = 1)"
      ],
      "metadata": {
        "id": "qXrWgzEGsXSr"
      },
      "execution_count": 56,
      "outputs": []
    },
    {
      "cell_type": "code",
      "source": [
        "X_train_over, X_test_over, y_train_over, y_test_over = train_test_split(X_over,y_over, test_size = 0.2, random_state = 42)"
      ],
      "metadata": {
        "id": "vL1L6-c5Jo-t"
      },
      "execution_count": 57,
      "outputs": []
    },
    {
      "cell_type": "code",
      "source": [
        "# Check the number of records after over sampling\n",
        "print(sorted(Counter(y_train_over).items()))\n",
        "print(sorted(Counter(y_test_over).items()))"
      ],
      "metadata": {
        "colab": {
          "base_uri": "https://localhost:8080/"
        },
        "id": "EtnKZQUvMkzD",
        "outputId": "894e26a8-caa6-4c85-b63d-d74c4d773fac"
      },
      "execution_count": 58,
      "outputs": [
        {
          "output_type": "stream",
          "name": "stdout",
          "text": [
            "[(0, 227569), (1, 227335)]\n",
            "[(0, 56746), (1, 56980)]\n"
          ]
        }
      ]
    },
    {
      "cell_type": "markdown",
      "source": [
        "###LogisiticRegression Model :"
      ],
      "metadata": {
        "id": "xx7ddHXlFFbE"
      }
    },
    {
      "cell_type": "code",
      "source": [
        "# Train the LogisiticRegression model\n",
        "logreg = LogisticRegression()\n",
        "logreg.fit(X_train_over,y_train_over)\n",
        "y_over_pred1 = logreg.predict(X_test_over)\n",
        "\n",
        "#Check the model performance\n",
        "print(classification_report(y_test_over, y_over_pred1,digits=6))\n",
        "\n",
        "# Check scores\n",
        "print (logreg.score(X_train_over, y_train_over))\n",
        "print(logreg.score(X_test_over,y_test_over))\n",
        "\n",
        "# Check specificity\n",
        "from sklearn import metrics\n",
        "specificity = metrics.recall_score(y_test_over, y_over_pred1, pos_label=1)\n",
        "print('Specificity : ', specificity)\n",
        "\n",
        "#Confusion Matrix visualization\n",
        "plot_confusion_matrix(logreg, X_test_over, y_test_over)  \n",
        "plt.title('LogisiticRegression Model')\n",
        "plt.show()"
      ],
      "metadata": {
        "colab": {
          "base_uri": "https://localhost:8080/",
          "height": 503
        },
        "id": "wCskc_6rsarT",
        "outputId": "f851f889-d8ca-49df-e208-4a80b4882feb"
      },
      "execution_count": 59,
      "outputs": [
        {
          "output_type": "stream",
          "name": "stdout",
          "text": [
            "              precision    recall  f1-score   support\n",
            "\n",
            "           0   0.927742  0.966359  0.946657     56746\n",
            "           1   0.965048  0.925044  0.944623     56980\n",
            "\n",
            "    accuracy                       0.945659    113726\n",
            "   macro avg   0.946395  0.945701  0.945640    113726\n",
            "weighted avg   0.946434  0.945659  0.945638    113726\n",
            "\n",
            "0.9457358035981218\n",
            "0.9456588642878497\n",
            "Specificity :  0.9250438750438751\n"
          ]
        },
        {
          "output_type": "display_data",
          "data": {
            "text/plain": [
              "<Figure size 432x288 with 2 Axes>"
            ],
            "image/png": "[encoded data removed]"
          },
          "metadata": {
            "needs_background": "light"
          }
        }
      ]
    },
    {
      "cell_type": "markdown",
      "source": [
        "###DecisionTree Model :"
      ],
      "metadata": {
        "id": "Tsm8fzA0uYP_"
      }
    },
    {
      "cell_type": "code",
      "source": [
        "# Train Decision Tree Classifer\n",
        "clf = DecisionTreeClassifier(max_depth=3)\n",
        "clf.fit(X_train_over,y_train_over)\n",
        "y_over_pred2 = clf.predict(X_test_over)\n",
        "\n",
        "# Check the model performance\n",
        "print(classification_report(y_test_over, y_over_pred2,digits=6))\n",
        "\n",
        "# Check scores\n",
        "print (clf.score(X_train_over,y_train_over))\n",
        "print(clf.score(X_test_over,y_test_over))\n",
        "\n",
        "# Check specificity\n",
        "from sklearn import metrics\n",
        "specificity = metrics.recall_score(y_test_over, y_over_pred2, pos_label=1)\n",
        "print('Specificity : ', specificity)\n",
        "\n",
        "#Confusion Matrix visualization\n",
        "plot_confusion_matrix(clf, X_test_over, y_test_over)  \n",
        "plt.title('DecisionTree Model')\n",
        "plt.show()"
      ],
      "metadata": {
        "colab": {
          "base_uri": "https://localhost:8080/",
          "height": 503
        },
        "id": "C81pRWA_t11I",
        "outputId": "cf58976c-a973-4374-9508-6294cd7db3d5"
      },
      "execution_count": 60,
      "outputs": [
        {
          "output_type": "stream",
          "name": "stdout",
          "text": [
            "              precision    recall  f1-score   support\n",
            "\n",
            "           0   0.906644  0.976545  0.940297     56746\n",
            "           1   0.974698  0.899860  0.935785     56980\n",
            "\n",
            "    accuracy                       0.938123    113726\n",
            "   macro avg   0.940671  0.938202  0.938041    113726\n",
            "weighted avg   0.940741  0.938123  0.938036    113726\n",
            "\n",
            "0.9392838928653079\n",
            "0.9381232084132036\n",
            "Specificity :  0.8998595998595998\n"
          ]
        },
        {
          "output_type": "display_data",
          "data": {
            "text/plain": [
              "<Figure size 432x288 with 2 Axes>"
            ],
            "image/png": "[encoded data removed]"
          },
          "metadata": {
            "needs_background": "light"
          }
        }
      ]
    },
    {
      "cell_type": "markdown",
      "source": [
        "###KNearest Model :"
      ],
      "metadata": {
        "id": "xUywNhleHv0M"
      }
    },
    {
      "cell_type": "code",
      "source": [
        "# Train KNeighbors Classifer\n",
        "knn = KNeighborsClassifier(n_neighbors = 3)\n",
        "knn.fit(X_train_over, y_train_over)\n",
        "y_over_pred3 = knn.predict(X_test_over)\n",
        "\n",
        "# Check the model performance\n",
        "print(classification_report(y_test_over, y_over_pred3,digits=6))\n",
        "\n",
        "# Check scores\n",
        "print (knn.score(X_train_over,y_train_over))\n",
        "print(knn.score(X_test_over,y_test_over))\n",
        "\n",
        "# Check specificity\n",
        "from sklearn import metrics\n",
        "specificity = metrics.recall_score(y_test_over, y_over_pred3, pos_label=1)\n",
        "print('Specificity : ', specificity)\n",
        "\n",
        "#Confusion Matrix visualization\n",
        "plot_confusion_matrix(knn, X_test_over, y_test_over)  \n",
        "plt.title('KNeighbors Model')\n",
        "plt.show()"
      ],
      "metadata": {
        "colab": {
          "base_uri": "https://localhost:8080/",
          "height": 503
        },
        "id": "j3Voik7BH0ax",
        "outputId": "5b88848a-faa7-4566-a1eb-f9d67bb6fb83"
      },
      "execution_count": 61,
      "outputs": [
        {
          "output_type": "stream",
          "name": "stdout",
          "text": [
            "              precision    recall  f1-score   support\n",
            "\n",
            "           0   1.000000  0.998872  0.999436     56746\n",
            "           1   0.998878  1.000000  0.999439     56980\n",
            "\n",
            "    accuracy                       0.999437    113726\n",
            "   macro avg   0.999439  0.999436  0.999437    113726\n",
            "weighted avg   0.999438  0.999437  0.999437    113726\n",
            "\n",
            "0.9997428028770905\n",
            "0.99943724390201\n",
            "Specificity :  1.0\n"
          ]
        },
        {
          "output_type": "display_data",
          "data": {
            "text/plain": [
              "<Figure size 432x288 with 2 Axes>"
            ],
            "image/png": "[encoded data removed]"
          },
          "metadata": {
            "needs_background": "light"
          }
        }
      ]
    }
  ]
}