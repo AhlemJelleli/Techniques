{
  "cells": [
    {
      "cell_type": "code",
      "execution_count": 15,
      "metadata": {
        "id": "4Q2PRg00j3nw"
      },
      "outputs": [],
      "source": [
        "import numpy as np # linear algebra\n",
        "import pandas as pd # data processing, CSV file I/O (e.g. pd.read_csv)\n",
        "import tensorflow as tf\n",
        "import matplotlib.pyplot as plt\n",
        "import seaborn as sns\n",
        "from sklearn.model_selection import train_test_split\n",
        "from sklearn.pipeline import make_pipeline\n",
        "from imblearn.pipeline import make_pipeline as imbalanced_make_pipeline\n",
        "from imblearn.over_sampling import SMOTE,ADASYN,BorderlineSMOTE,SVMSMOTE,RandomOverSampler  \n",
        "from imblearn.under_sampling import NearMiss, RandomUnderSampler\n",
        "from imblearn.metrics import classification_report_imbalanced\n",
        "from sklearn.metrics import precision_score, recall_score, f1_score,auc, roc_auc_score, accuracy_score,roc_curve,average_precision_score, classification_report,precision_recall_curve\n",
        "from collections import Counter\n",
        "from sklearn.metrics import plot_confusion_matrix\n",
        "from sklearn.model_selection import KFold, StratifiedKFold\n",
        "from sklearn.metrics import confusion_matrix\n",
        "from sklearn.svm import SVC\n",
        "import warnings\n",
        "warnings.filterwarnings(\"ignore\")\n",
        "\n",
        "# Classifier Libraries\n",
        "from sklearn.linear_model import LogisticRegression\n",
        "from sklearn.neighbors import KNeighborsClassifier\n",
        "from sklearn.tree import DecisionTreeClassifier\n",
        "from sklearn.ensemble import RandomForestClassifier\n",
        "import collections"
      ]
    },
    {
      "cell_type": "code",
      "execution_count": 16,
      "metadata": {
        "colab": {
          "base_uri": "https://localhost:8080/"
        },
        "id": "TAfJsgbykGvz",
        "outputId": "ede9fe13-cf31-446f-cc5a-9964f1016435"
      },
      "outputs": [
        {
          "output_type": "stream",
          "name": "stdout",
          "text": [
            "Drive already mounted at /content/drive; to attempt to forcibly remount, call drive.mount(\"/content/drive\", force_remount=True).\n"
          ]
        }
      ],
      "source": [
        "from google.colab import drive\n",
        "drive.mount('/content/drive')"
      ]
    },
    {
      "cell_type": "code",
      "execution_count": 17,
      "metadata": {
        "id": "pkR78kDGkKxy",
        "colab": {
          "base_uri": "https://localhost:8080/"
        },
        "outputId": "4bb5f88e-5b09-41e7-8205-a9d84576e63a"
      },
      "outputs": [
        {
          "output_type": "stream",
          "name": "stdout",
          "text": [
            "The shape of : (284807, 31)\n"
          ]
        }
      ],
      "source": [
        "data = pd.read_csv('/content/drive/MyDrive/creditcard.csv',encoding=\"utf-8\",low_memory=False )\n",
        "print(\"The shape of :\", data.shape)"
      ]
    },
    {
      "cell_type": "code",
      "execution_count": 18,
      "metadata": {
        "id": "bozuZ1CznA2z"
      },
      "outputs": [],
      "source": [
        "# Since most of our data has already been scaled we should scale the columns that are left to scale (Amount and Time)\n",
        "from sklearn.preprocessing import StandardScaler, RobustScaler\n",
        "\n",
        "# RobustScaler is less prone to outliers.\n",
        "\n",
        "scaler = StandardScaler()"
      ]
    },
    {
      "cell_type": "code",
      "execution_count": 19,
      "metadata": {
        "colab": {
          "base_uri": "https://localhost:8080/"
        },
        "id": "-AZGx6KJmydp",
        "outputId": "e4952d54-69a2-40cf-a4e5-e4329cb9d0ce"
      },
      "outputs": [
        {
          "output_type": "execute_result",
          "data": {
            "text/plain": [
              "0    284315\n",
              "1       492\n",
              "Name: Class, dtype: int64"
            ]
          },
          "metadata": {},
          "execution_count": 19
        }
      ],
      "source": [
        "X = data.drop('Class', axis=1)\n",
        "Y = data['Class']\n",
        "X = scaler.fit_transform(X)\n",
        "Y.value_counts()"
      ]
    },
    {
      "cell_type": "code",
      "execution_count": 20,
      "metadata": {
        "id": "C93qfbsbmr17"
      },
      "outputs": [],
      "source": [
        "X = scaler.fit_transform(X)"
      ]
    },
    {
      "cell_type": "code",
      "execution_count": 21,
      "metadata": {
        "id": "RmG19guUmdwW"
      },
      "outputs": [],
      "source": [
        "# Split train into train-test\n",
        "X_train, X_test, y_train, y_test = train_test_split(X, Y, test_size=0.2, random_state=42)"
      ]
    },
    {
      "cell_type": "code",
      "execution_count": 22,
      "metadata": {
        "colab": {
          "base_uri": "https://localhost:8080/"
        },
        "id": "Y1vdRi-tqlCB",
        "outputId": "87015c08-3f96-40fa-faef-da2e6c1c5d6d"
      },
      "outputs": [
        {
          "output_type": "stream",
          "name": "stdout",
          "text": [
            "No Frauds 99.83 % of the dataset\n",
            "Frauds 0.17 % of the dataset\n"
          ]
        }
      ],
      "source": [
        "from sklearn.model_selection import train_test_split\n",
        "\n",
        "print('No Frauds', round(data['Class'].value_counts()[0]/len(data) * 100,2), '% of the dataset')\n",
        "print('Frauds', round(data['Class'].value_counts()[1]/len(data) * 100,2), '% of the dataset')\n",
        "\n",
        "X = data.drop('Class', axis=1)\n",
        "y = data['Class']"
      ]
    },
    {
      "cell_type": "code",
      "source": [
        "# Split train into train-test\n",
        "X_train, X_test, y_train, y_test = train_test_split(X, Y, test_size=0.2, random_state=42)"
      ],
      "metadata": {
        "id": "jHaXWaWW_WoB"
      },
      "execution_count": 23,
      "outputs": []
    },
    {
      "cell_type": "code",
      "source": [
        "print(\"The shape of : x_test,y_test,x_train,y_train \",X_test.shape,y_test.shape,X_train.shape,y_train.shape)"
      ],
      "metadata": {
        "colab": {
          "base_uri": "https://localhost:8080/"
        },
        "id": "eJap30FrACsY",
        "outputId": "47c66d7e-9257-4a6c-83b3-77751c453e84"
      },
      "execution_count": 24,
      "outputs": [
        {
          "output_type": "stream",
          "name": "stdout",
          "text": [
            "The shape of : x_test,y_test,x_train,y_train  (56962, 30) (56962,) (227845, 30) (227845,)\n"
          ]
        }
      ]
    },
    {
      "cell_type": "markdown",
      "metadata": {
        "id": "F1EPg0080GFv"
      },
      "source": [
        "###LogisiticRegression Model :"
      ]
    },
    {
      "cell_type": "code",
      "execution_count": 25,
      "metadata": {
        "colab": {
          "base_uri": "https://localhost:8080/",
          "height": 521
        },
        "id": "F2I4jw-y0z_a",
        "outputId": "0f24e982-2334-43b7-d7a8-d52d6b8662a5"
      },
      "outputs": [
        {
          "output_type": "stream",
          "name": "stdout",
          "text": [
            "              precision    recall  f1-score   support\n",
            "\n",
            "           0   0.999244  0.999384  0.999314     56864\n",
            "           1   0.611111  0.561224  0.585106        98\n",
            "\n",
            "    accuracy                       0.998631     56962\n",
            "   macro avg   0.805178  0.780304  0.792210     56962\n",
            "weighted avg   0.998576  0.998631  0.998602     56962\n",
            "\n",
            "0.998990541815708\n",
            "0.9986306660580738\n",
            "Specificity :  0.5612244897959183\n"
          ]
        },
        {
          "output_type": "display_data",
          "data": {
            "text/plain": [
              "<Figure size 432x288 with 2 Axes>"
            ],
            "image/png": "[encoded data removed]"
          },
          "metadata": {
            "needs_background": "light"
          }
        },
        {
          "output_type": "stream",
          "name": "stdout",
          "text": [
            "The shape of : (284807, 31)\n"
          ]
        }
      ],
      "source": [
        "# Train the LogisiticRegression model\n",
        "logreg = LogisticRegression()\n",
        "logreg.fit(X_train, y_train)\n",
        "y_pred1 = logreg.predict(X_test)\n",
        "\n",
        "# Check the model performance\n",
        "print(classification_report(y_test, y_pred1,digits=6))\n",
        "\n",
        "# Check scores\n",
        "print (logreg.score(X_train,y_train))\n",
        "print(logreg.score(X_test,y_test))\n",
        "\n",
        "# Check specificity\n",
        "from sklearn import metrics\n",
        "specificity = metrics.recall_score(y_test, y_pred1, pos_label=1)\n",
        "print('Specificity : ', specificity)\n",
        "\n",
        "#Confusion Matrix visualization\n",
        "plot_confusion_matrix(logreg, X_test, y_test)  \n",
        "plt.title('LogisiticRegression Model')\n",
        "plt.show()\n",
        "print(\"The shape of :\", data.shape)"
      ]
    },
    {
      "cell_type": "markdown",
      "metadata": {
        "id": "jJu38XB7rZZZ"
      },
      "source": [
        "###DecisionTree Model :"
      ]
    },
    {
      "cell_type": "code",
      "execution_count": 26,
      "metadata": {
        "colab": {
          "base_uri": "https://localhost:8080/",
          "height": 503
        },
        "id": "Ew3CZun-w_6X",
        "outputId": "b5f0ddeb-6b07-4fd6-b95c-25a6c41652b8"
      },
      "outputs": [
        {
          "output_type": "stream",
          "name": "stdout",
          "text": [
            "              precision    recall  f1-score   support\n",
            "\n",
            "           0   0.999455  0.999824  0.999640     56864\n",
            "           1   0.870130  0.683673  0.765714        98\n",
            "\n",
            "    accuracy                       0.999280     56962\n",
            "   macro avg   0.934792  0.841749  0.882677     56962\n",
            "weighted avg   0.999233  0.999280  0.999237     56962\n",
            "\n",
            "0.9993504356031513\n",
            "0.9992802219023208\n",
            "Specificity :  0.6836734693877551\n"
          ]
        },
        {
          "output_type": "display_data",
          "data": {
            "text/plain": [
              "<Figure size 432x288 with 2 Axes>"
            ],
            "image/png": "[encoded data removed]"
          },
          "metadata": {
            "needs_background": "light"
          }
        }
      ],
      "source": [
        "# Train Decision Tree Classifer\n",
        "clf = DecisionTreeClassifier(max_depth=3)\n",
        "clf.fit(X_train,y_train)\n",
        "y_pred2 = clf.predict(X_test)\n",
        "\n",
        "# Check the model performance\n",
        "print(classification_report(y_test, y_pred2,digits=6))\n",
        "\n",
        "# Check scores\n",
        "print (clf.score(X_train,y_train))\n",
        "print(clf.score(X_test,y_test))\n",
        "\n",
        "# Check specificity\n",
        "from sklearn import metrics\n",
        "specificity = metrics.recall_score(y_test, y_pred2, pos_label=1)\n",
        "print('Specificity : ', specificity)\n",
        "\n",
        "#Confusion Matrix visualization\n",
        "plot_confusion_matrix(clf, X_test, y_test)  \n",
        "plt.title('DecisionTree Model')\n",
        "plt.show()"
      ]
    },
    {
      "cell_type": "markdown",
      "metadata": {
        "id": "Cbqk9gFd0SxG"
      },
      "source": [
        "###KNearest Model :\n"
      ]
    },
    {
      "cell_type": "code",
      "execution_count": 27,
      "metadata": {
        "colab": {
          "base_uri": "https://localhost:8080/",
          "height": 503
        },
        "id": "nLoceHLrZXNJ",
        "outputId": "033913f8-ac37-4775-f8fe-88cfe72d86fe"
      },
      "outputs": [
        {
          "output_type": "stream",
          "name": "stdout",
          "text": [
            "              precision    recall  f1-score   support\n",
            "\n",
            "           0   0.998437  1.000000  0.999218     56864\n",
            "           1   1.000000  0.091837  0.168224        98\n",
            "\n",
            "    accuracy                       0.998438     56962\n",
            "   macro avg   0.999219  0.545918  0.583721     56962\n",
            "weighted avg   0.998440  0.998438  0.997788     56962\n",
            "\n",
            "0.9986438148741469\n",
            "0.9984375548611355\n",
            "Specificity :  0.09183673469387756\n"
          ]
        },
        {
          "output_type": "display_data",
          "data": {
            "text/plain": [
              "<Figure size 432x288 with 2 Axes>"
            ],
            "image/png": "[encoded data removed]"
          },
          "metadata": {
            "needs_background": "light"
          }
        }
      ],
      "source": [
        "# Train KNeighbors Classifer\n",
        "knn = KNeighborsClassifier(n_neighbors = 3)\n",
        "knn.fit(X_train, y_train)\n",
        "y_pred3 = knn.predict(X_test)\n",
        "\n",
        "# Check the model performance\n",
        "print(classification_report(y_test, y_pred3,digits=6))\n",
        "\n",
        "# Check scores\n",
        "print (knn.score(X_train,y_train))\n",
        "print(knn.score(X_test,y_test))\n",
        "\n",
        "# Check specificity\n",
        "from sklearn import metrics\n",
        "specificity = metrics.recall_score(y_test, y_pred3, pos_label=1)\n",
        "print('Specificity : ', specificity)\n",
        "\n",
        "#Confusion Matrix visualization\n",
        "plot_confusion_matrix(knn, X_test, y_test)  \n",
        "plt.title('KNeighbors Model')\n",
        "plt.show()"
      ]
    }
  ],
  "metadata": {
    "colab": {
      "provenance": []
    },
    "kernelspec": {
      "display_name": "Python 3",
      "name": "python3"
    },
    "language_info": {
      "name": "python"
    }
  },
  "nbformat": 4,
  "nbformat_minor": 0
}